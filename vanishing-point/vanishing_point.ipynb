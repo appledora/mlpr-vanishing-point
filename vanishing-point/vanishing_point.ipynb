{
 "cells": [
  {
   "cell_type": "code",
   "execution_count": 315,
   "source": [
    "import numpy as np\n",
    "import matplotlib.pyplot as plt\n",
    "import matplotlib.image as mpimg\n",
    "import cv2 \n",
    "import operator\n",
    "import random\n",
    "import math\n"
   ],
   "outputs": [],
   "metadata": {}
  },
  {
   "cell_type": "code",
   "execution_count": null,
   "source": [],
   "outputs": [],
   "metadata": {}
  },
  {
   "cell_type": "code",
   "execution_count": 316,
   "source": [
    "def houghTransform(img):\n",
    "    gray = cv2.cvtColor(img, cv2.COLOR_BGR2GRAY)\n",
    "    kernel = np.ones((15, 15), np.uint8)\n",
    "\n",
    "    opening = cv2.morphologyEx(gray, cv2.MORPH_OPEN, kernel)\n",
    "\n",
    "    edges = cv2.Canny(gray, 50, 150, apertureSize=3)\n",
    "\n",
    "    cv2.imwrite(\"edges.jpg\", edges)\n",
    "\n",
    "    # Compute the Hough Transform\n",
    "    lines = cv2.HoughLines(edges, 1, np.pi / 180, 200)\n",
    "    print(\"Found lines: {}\".format(len(lines)))\n",
    "    houghLines = []\n",
    "    # Draw the lines\n",
    "    for line in lines:\n",
    "        rho, theta = line[0]\n",
    "        if abs(theta-np.pi/90) < np.pi/9:\n",
    "            continue\n",
    "        a = np.cos(theta)\n",
    "        b = np.sin(theta)\n",
    "        x0 = a * rho\n",
    "        y0 = b * rho\n",
    "        x1 = int(x0 + 1000 * (-b))\n",
    "        y1 = int(y0 + 1000 * (a))\n",
    "        x2 = int(x0 - 1000 * (-b))\n",
    "        y2 = int(y0 - 1000 * (a))\n",
    "        line_points = list(((x1,y1), (x2,y2)))\n",
    "        cv2.line(img,(x1,y1),(x2,y2),(0,0,255),2)\n",
    "        cv2.imwrite(\"StandardHough.jpg\", img);\n",
    "        # print(\"line_points: \", line_points)\n",
    "        houghLines.append( line_points)\n",
    "        # cv2.line(img, (x1, y1), (x2, y2), (0, 0, 255), 2)\n",
    "        fhLines = filteringHoughLines(edges, img, houghLines)\n",
    "    return fhLines"
   ],
   "outputs": [],
   "metadata": {}
  },
  {
   "cell_type": "code",
   "execution_count": 317,
   "source": [],
   "outputs": [],
   "metadata": {}
  },
  {
   "cell_type": "code",
   "execution_count": 318,
   "source": [
    "def randomSampleLines(lines):\n",
    "    \"\"\"\n",
    "    Randomly sample lines from the given lines.\n",
    "    :param lines: The lines to sample from.\n",
    "    :return: The sampled lines.\n",
    "    \"\"\"\n",
    "    # print(\"lines\",lines)\n",
    "    # print(len(lines))\n",
    "    num = 100\n",
    "    if num > len(lines):\n",
    "        num = len(lines)\n",
    "    # print(\"num\",num)\n",
    "    x = random.sample(lines, min(len(lines), num))\n",
    "    return x"
   ],
   "outputs": [],
   "metadata": {}
  },
  {
   "cell_type": "code",
   "execution_count": 319,
   "source": [
    "def determine(a, b):\n",
    "    return a[0] * b[1] - a[1] * b[0]\n",
    "def intersectionOftwoLines(line_1,line_2):\n",
    "    '''\n",
    "    finds the intersection point between two lines\n",
    "    '''\n",
    "    '''\n",
    "    convert tuple to list\n",
    "    '''\n",
    "    xVal = (line_1[0][0] - line_1[1][0], line_2[0][0] - line_2[1][0])\n",
    "    yVal = (line_1[0][1] - line_1[1][1], line_2[0][1] - line_2[1][1])\n",
    "\n",
    "    intersect = determine(xVal, yVal)\n",
    "\n",
    "    if intersect == 0:\n",
    "        return 0,0\n",
    "\n",
    "    temp = (determine(*line_1), determine(*line_2))\n",
    "    x = determine(temp, xVal) / intersect\n",
    "    y = determine(temp, yVal) / intersect\n",
    "\n",
    "    return x, y\n",
    "\n",
    "def intersectionofmultipleLines(lines):\n",
    "    '''\n",
    "    finds intersection between multiple lines\n",
    "    '''\n",
    "    intersections = []\n",
    "    for i in range(len(lines)):\n",
    "        for j in range(i+1, len(lines)):\n",
    "            # print(lines[i])\n",
    "            # print(lines[j])\n",
    "            intersection = intersectionOftwoLines(lines[i], lines[j])\n",
    "            if intersection not in intersections:\n",
    "                intersections.append(intersection)\n",
    "    return intersections"
   ],
   "outputs": [],
   "metadata": {}
  },
  {
   "cell_type": "code",
   "execution_count": 320,
   "source": [
    "def distancebetweenTwoPoints(p1, p2):\n",
    "    '''\n",
    "    calculate distance between point tuple\n",
    "    '''\n",
    "    x1, y1 = p1\n",
    "    x2, y2 = p2\n",
    "    return math.sqrt((x2 - x1)**2 + (y2 - y1)**2)\n",
    "\n",
    "def checklineIntersection(line, p1, p2):\n",
    "    '''\n",
    "    check if a line passes throguh two points\n",
    "    '''\n",
    "    length1 = distancebetweenTwoPoints((line[0][0],line[0][1]),(p1, p2))    \n",
    "    length2 = distancebetweenTwoPoints((line[1][0],line[1][1]),(p1, p2))\n",
    "    length3 = distancebetweenTwoPoints((line[0][0],line[0][1]),(line[1][0],line[1][1]))\n",
    "\n",
    "    if int(length1) + int(length2)  == int(length3):\n",
    "        return True\n",
    "    else:\n",
    "        return False\n"
   ],
   "outputs": [],
   "metadata": {}
  },
  {
   "cell_type": "code",
   "execution_count": 321,
   "source": [
    "def twoLineVP(img, houghLines):\n",
    "    '''\n",
    "    function to get the Vanishing point using two lines\n",
    "    '''\n",
    "    intersectionCounter = {}\n",
    "    \n",
    "    for line1 in houghLines:\n",
    "        for line2 in houghLines:\n",
    "            # if both the lines are same then don't process\n",
    "            if line1 == line2:\n",
    "                continue\n",
    "            \n",
    "            # check if point the lines are intersecting\n",
    "            # print(line1, line2)\n",
    "            # print(intersectionOftwoLines(line1, line2))\n",
    "            pointX, pointY = intersectionOftwoLines(line1, line2)\n",
    "            intersectionCounter[(pointX, pointY)] = 0\n",
    "\n",
    "            # now check for all other lines that intersect with this pair\n",
    "            for lines in houghLines:\n",
    "                # if lines are same then don't process\n",
    "                if lines == line1 or lines == line2:\n",
    "                    continue\n",
    "\n",
    "                # check if the line is passing through the pair of points\n",
    "                flag =  checklineIntersection(lines, pointX, pointY)\n",
    "                if flag:\n",
    "                    intersectionCounter[(pointX, pointY)] += 1\n",
    "\n",
    "    finalIntersectionCounter = max(intersectionCounter.items(), key=operator.itemgetter(1))[0]\n",
    "    print(finalIntersectionCounter)\n",
    "    print(type (finalIntersectionCounter))\n",
    "    print(finalIntersectionCounter[0])\n",
    "    print(finalIntersectionCounter[1])\n",
    "    cv2.circle(image, (int(finalIntersectionCounter[0]), int(finalIntersectionCounter[1])), 55, (0, 255, 0), 2)\n",
    "    cv2.imwrite(\"LinePairVP.jpg\", image)\n",
    "    print (finalIntersectionCounter)\n",
    "\n"
   ],
   "outputs": [],
   "metadata": {}
  },
  {
   "cell_type": "code",
   "execution_count": 322,
   "source": [
    "import itertools\n",
    "# Given intersections, find the grid where most intersections occur and treat as vanishing point\n",
    "def vanishingPointCalculation(img, grid_size, intersections):\n",
    "    # Image dimensions\n",
    "    image_height = img.shape[0]\n",
    "    image_width = img.shape[1]\n",
    "\n",
    "    # Grid dimensions\n",
    "    grid_rows = (image_height // grid_size) + 1\n",
    "    grid_columns = (image_width // grid_size) + 1\n",
    "\n",
    "    # Current cell with most intersection points\n",
    "    max_intersections = 0\n",
    "    best_cell = (0.0, 0.0)\n",
    "\n",
    "    for i, j in itertools.product(range(grid_columns),range(grid_rows)):\n",
    "        cell_left = i * grid_size\n",
    "        cell_right = (i + 1) * grid_size\n",
    "        cell_bottom = j * grid_size\n",
    "        cell_top = (j + 1) * grid_size\n",
    "        cv2.rectangle(img, (cell_left, cell_bottom), (cell_right, cell_top), (0, 0, 255), 10)\n",
    "\n",
    "        current_intersections = 0  # Number of intersections in the current cell\n",
    "        for x, y in intersections:\n",
    "            if cell_left < x < cell_right and cell_bottom < y < cell_top:\n",
    "                current_intersections += 1\n",
    "\n",
    "        # Current cell has more intersections that previous cell (better)\n",
    "        if current_intersections > max_intersections:\n",
    "            max_intersections = current_intersections\n",
    "            best_cell = ((cell_left + cell_right) / 2, (cell_bottom + cell_top) / 2)\n",
    "            print(\"Best Cell:\", best_cell)\n",
    "\n",
    "    if best_cell[0] != None and best_cell[1] != None:\n",
    "        rx1 = int(best_cell[0] - grid_size / 2)\n",
    "        ry1 = int(best_cell[1] - grid_size / 2)\n",
    "        rx2 = int(best_cell[0] + grid_size / 2)\n",
    "        ry2 = int(best_cell[1] + grid_size / 2)\n",
    "        cv2.rectangle(img, (rx1, ry1), (rx2, ry2), (0, 255, 0), 10)\n",
    "        cv2.imwrite('/pictures/output/center.jpg', img)\n",
    "\n",
    "    return best_cell"
   ],
   "outputs": [],
   "metadata": {}
  },
  {
   "cell_type": "markdown",
   "source": [
    "## Method 1"
   ],
   "metadata": {}
  },
  {
   "cell_type": "code",
   "execution_count": 323,
   "source": [
    "image = cv2.imread(\"/home/appledora/Documents/gig/vanishing-point/Corridor.jpg\")\n",
    "houghLines = houghTransform(image)\n",
    "twoLineVP(image, fhLines)\n"
   ],
   "outputs": [
    {
     "output_type": "stream",
     "name": "stdout",
     "text": [
      "Found lines: 37\n"
     ]
    },
    {
     "output_type": "error",
     "ename": "NameError",
     "evalue": "name 'bresenham_line' is not defined",
     "traceback": [
      "\u001b[0;31m---------------------------------------------------------------------------\u001b[0m",
      "\u001b[0;31mNameError\u001b[0m                                 Traceback (most recent call last)",
      "\u001b[0;32m<ipython-input-323-1d8336c9843c>\u001b[0m in \u001b[0;36m<module>\u001b[0;34m\u001b[0m\n\u001b[1;32m      1\u001b[0m \u001b[0mimage\u001b[0m \u001b[0;34m=\u001b[0m \u001b[0mcv2\u001b[0m\u001b[0;34m.\u001b[0m\u001b[0mimread\u001b[0m\u001b[0;34m(\u001b[0m\u001b[0;34m\"/home/appledora/Documents/gig/vanishing-point/Corridor.jpg\"\u001b[0m\u001b[0;34m)\u001b[0m\u001b[0;34m\u001b[0m\u001b[0;34m\u001b[0m\u001b[0m\n\u001b[0;32m----> 2\u001b[0;31m \u001b[0mhoughLines\u001b[0m \u001b[0;34m=\u001b[0m \u001b[0mhoughTransform\u001b[0m\u001b[0;34m(\u001b[0m\u001b[0mimage\u001b[0m\u001b[0;34m)\u001b[0m\u001b[0;34m\u001b[0m\u001b[0;34m\u001b[0m\u001b[0m\n\u001b[0m\u001b[1;32m      3\u001b[0m \u001b[0mtwoLineVP\u001b[0m\u001b[0;34m(\u001b[0m\u001b[0mimage\u001b[0m\u001b[0;34m,\u001b[0m \u001b[0mfhLines\u001b[0m\u001b[0;34m)\u001b[0m\u001b[0;34m\u001b[0m\u001b[0;34m\u001b[0m\u001b[0m\n",
      "\u001b[0;32m<ipython-input-316-767770ab160d>\u001b[0m in \u001b[0;36mhoughTransform\u001b[0;34m(img)\u001b[0m\n\u001b[1;32m     32\u001b[0m         \u001b[0mhoughLines\u001b[0m\u001b[0;34m.\u001b[0m\u001b[0mappend\u001b[0m\u001b[0;34m(\u001b[0m \u001b[0mline_points\u001b[0m\u001b[0;34m)\u001b[0m\u001b[0;34m\u001b[0m\u001b[0;34m\u001b[0m\u001b[0m\n\u001b[1;32m     33\u001b[0m         \u001b[0;31m# cv2.line(img, (x1, y1), (x2, y2), (0, 0, 255), 2)\u001b[0m\u001b[0;34m\u001b[0m\u001b[0;34m\u001b[0m\u001b[0;34m\u001b[0m\u001b[0m\n\u001b[0;32m---> 34\u001b[0;31m         \u001b[0mfhLines\u001b[0m \u001b[0;34m=\u001b[0m \u001b[0mfilteringHoughLines\u001b[0m\u001b[0;34m(\u001b[0m\u001b[0medges\u001b[0m\u001b[0;34m,\u001b[0m \u001b[0mimg\u001b[0m\u001b[0;34m,\u001b[0m \u001b[0mhoughLines\u001b[0m\u001b[0;34m)\u001b[0m\u001b[0;34m\u001b[0m\u001b[0;34m\u001b[0m\u001b[0m\n\u001b[0m\u001b[1;32m     35\u001b[0m     \u001b[0;32mreturn\u001b[0m \u001b[0mfhLines\u001b[0m\u001b[0;34m\u001b[0m\u001b[0;34m\u001b[0m\u001b[0m\n",
      "\u001b[0;32m<ipython-input-317-28083154f0a0>\u001b[0m in \u001b[0;36mfilteringHoughLines\u001b[0;34m(img, ori_img, houghLinesArrary)\u001b[0m\n\u001b[1;32m     10\u001b[0m \u001b[0;34m\u001b[0m\u001b[0m\n\u001b[1;32m     11\u001b[0m     \u001b[0;32mfor\u001b[0m \u001b[0mline\u001b[0m \u001b[0;32min\u001b[0m \u001b[0mhoughLinesArrary\u001b[0m\u001b[0;34m:\u001b[0m\u001b[0;34m\u001b[0m\u001b[0;34m\u001b[0m\u001b[0m\n\u001b[0;32m---> 12\u001b[0;31m         \u001b[0mpoints\u001b[0m \u001b[0;34m=\u001b[0m \u001b[0mbresenham_line\u001b[0m\u001b[0;34m(\u001b[0m\u001b[0;34m(\u001b[0m\u001b[0mline\u001b[0m\u001b[0;34m[\u001b[0m\u001b[0;36m0\u001b[0m\u001b[0;34m]\u001b[0m\u001b[0;34m[\u001b[0m\u001b[0;36m0\u001b[0m\u001b[0;34m]\u001b[0m\u001b[0;34m,\u001b[0m\u001b[0mline\u001b[0m\u001b[0;34m[\u001b[0m\u001b[0;36m0\u001b[0m\u001b[0;34m]\u001b[0m\u001b[0;34m[\u001b[0m\u001b[0;36m1\u001b[0m\u001b[0;34m]\u001b[0m\u001b[0;34m)\u001b[0m\u001b[0;34m,\u001b[0m\u001b[0;34m(\u001b[0m\u001b[0mline\u001b[0m\u001b[0;34m[\u001b[0m\u001b[0;36m1\u001b[0m\u001b[0;34m]\u001b[0m\u001b[0;34m[\u001b[0m\u001b[0;36m0\u001b[0m\u001b[0;34m]\u001b[0m\u001b[0;34m,\u001b[0m\u001b[0mline\u001b[0m\u001b[0;34m[\u001b[0m\u001b[0;36m1\u001b[0m\u001b[0;34m]\u001b[0m\u001b[0;34m[\u001b[0m\u001b[0;36m1\u001b[0m\u001b[0;34m]\u001b[0m\u001b[0;34m)\u001b[0m\u001b[0;34m)\u001b[0m    \u001b[0;31m# Call Bresenham algorithm to get the points\u001b[0m\u001b[0;34m\u001b[0m\u001b[0;34m\u001b[0m\u001b[0m\n\u001b[0m\u001b[1;32m     13\u001b[0m         \u001b[0mtempPoint1\u001b[0m \u001b[0;34m=\u001b[0m \u001b[0;34m[\u001b[0m\u001b[0;34m(\u001b[0m\u001b[0mline\u001b[0m\u001b[0;34m[\u001b[0m\u001b[0;36m0\u001b[0m\u001b[0;34m]\u001b[0m\u001b[0;34m[\u001b[0m\u001b[0;36m0\u001b[0m\u001b[0;34m]\u001b[0m\u001b[0;34m-\u001b[0m\u001b[0mline\u001b[0m\u001b[0;34m[\u001b[0m\u001b[0;36m1\u001b[0m\u001b[0;34m]\u001b[0m\u001b[0;34m[\u001b[0m\u001b[0;36m0\u001b[0m\u001b[0;34m]\u001b[0m\u001b[0;34m)\u001b[0m\u001b[0;34m,\u001b[0m \u001b[0;34m(\u001b[0m\u001b[0mline\u001b[0m\u001b[0;34m[\u001b[0m\u001b[0;36m0\u001b[0m\u001b[0;34m]\u001b[0m\u001b[0;34m[\u001b[0m\u001b[0;36m1\u001b[0m\u001b[0;34m]\u001b[0m\u001b[0;34m-\u001b[0m\u001b[0mline\u001b[0m\u001b[0;34m[\u001b[0m\u001b[0;36m1\u001b[0m\u001b[0;34m]\u001b[0m\u001b[0;34m[\u001b[0m\u001b[0;36m1\u001b[0m\u001b[0;34m]\u001b[0m\u001b[0;34m)\u001b[0m\u001b[0;34m]\u001b[0m             \u001b[0;31m# Store the point for dot product\u001b[0m\u001b[0;34m\u001b[0m\u001b[0;34m\u001b[0m\u001b[0m\n\u001b[1;32m     14\u001b[0m         \u001b[0mthreshold\u001b[0m \u001b[0;34m=\u001b[0m \u001b[0;36m0\u001b[0m\u001b[0;34m\u001b[0m\u001b[0;34m\u001b[0m\u001b[0m\n",
      "\u001b[0;31mNameError\u001b[0m: name 'bresenham_line' is not defined"
     ]
    }
   ],
   "metadata": {}
  },
  {
   "cell_type": "markdown",
   "source": [
    "## Method 2"
   ],
   "metadata": {}
  },
  {
   "cell_type": "code",
   "execution_count": 293,
   "source": [
    "\n",
    "if houghLines:\n",
    "        random_sample = randomSampleLines(houghLines)\n",
    "        intersections = intersectionofmultipleLines(random_sample)\n",
    "        if intersections:\n",
    "            grid_size = min(image.shape[0], image.shape[1]) // 5\n",
    "            vanishing_point = vanishingPointCalculation(image, grid_size, intersections)\n",
    "            cv2.circle(image, (int(vanishing_point[0]), int(vanishing_point[1])), 2, (0, 255, 0), 2)\n",
    "            cv2.imwrite(\"otherone.jpg\", image)\n",
    "            "
   ],
   "outputs": [
    {
     "output_type": "stream",
     "name": "stdout",
     "text": [
      "Best Cell: (540.0, 108.0)\n"
     ]
    }
   ],
   "metadata": {}
  }
 ],
 "metadata": {
  "orig_nbformat": 4,
  "language_info": {
   "name": "python"
  }
 },
 "nbformat": 4,
 "nbformat_minor": 2
}