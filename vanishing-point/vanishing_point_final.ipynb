{
 "cells": [
  {
   "cell_type": "markdown",
   "source": [
    "## Import modules"
   ],
   "metadata": {}
  },
  {
   "cell_type": "code",
   "execution_count": 42,
   "source": [
    "import numpy as np\n",
    "import matplotlib.pyplot as plt\n",
    "import matplotlib.image as mpimg\n",
    "import cv2 \n",
    "import random\n",
    "import math\n",
    "import operator\n"
   ],
   "outputs": [],
   "metadata": {}
  },
  {
   "cell_type": "markdown",
   "source": [
    "## Standar Hough Transformation Function"
   ],
   "metadata": {}
  },
  {
   "cell_type": "code",
   "execution_count": 43,
   "source": [
    "def houghTransform(img):\n",
    "    gray = cv2.cvtColor(img, cv2.COLOR_BGR2GRAY)\n",
    "    # kernel = np.ones((15, 15), np.uint8)\n",
    "\n",
    "    # opening = cv2.morphologyEx(gray, cv2.MORPH_OPEN, kernel)\n",
    "\n",
    "    edges = cv2.Canny(gray, 50, 150, apertureSize=3)\n",
    "\n",
    "    cv2.imwrite(\"edges.jpg\", edges)\n",
    "\n",
    "    # Compute the Hough Transform\n",
    "    lines = cv2.HoughLines(edges, 1, np.pi / 180, 200)\n",
    "    print(\"Found lines: {}\".format(len(lines)))\n",
    "    houghLines = []\n",
    "    # Draw the lines\n",
    "    for line in lines:\n",
    "        rho, theta = line[0]\n",
    "        if abs(theta-np.pi/90) < np.pi/9:\n",
    "            continue\n",
    "        a = np.cos(theta)\n",
    "        b = np.sin(theta)\n",
    "        x0 = a * rho\n",
    "        y0 = b * rho\n",
    "        x1 = int(x0 + 1000 * (-b))\n",
    "        y1 = int(y0 + 1000 * (a))\n",
    "        x2 = int(x0 - 1000 * (-b))\n",
    "        y2 = int(y0 - 1000 * (a))\n",
    "        line_points = list(((x1,y1), (x2,y2)))\n",
    "        cv2.line(img,(x1,y1),(x2,y2),(0,0,255),2)\n",
    "        cv2.imwrite(\"StandardHough.jpg\", img);\n",
    "        # print(\"line_points: \", line_points)\n",
    "        houghLines.append( line_points)\n",
    "        # cv2.line(img, (x1, y1), (x2, y2), (0, 0, 255), 2)\n",
    "    return houghLines"
   ],
   "outputs": [],
   "metadata": {}
  },
  {
   "cell_type": "code",
   "execution_count": 44,
   "source": [
    "\n",
    "def determine(a, b):\n",
    "    return a[0] * b[1] - a[1] * b[0]\n",
    "\n",
    "def distancebetweenTwoPoints(p1, p2):\n",
    "    '''\n",
    "    calculate distance between point tuples\n",
    "    '''\n",
    "    x1, y1 = p1\n",
    "    x2, y2 = p2\n",
    "    return math.sqrt((x2 - x1)**2 + (y2 - y1)**2)\n",
    "def checklineIntersection(line, p1, p2):\n",
    "    '''\n",
    "    check if a line passes throguh two points\n",
    "    '''\n",
    "    length1 = distancebetweenTwoPoints((line[0][0],line[0][1]),(p1, p2))    \n",
    "    length2 = distancebetweenTwoPoints((line[1][0],line[1][1]),(p1, p2))\n",
    "    length3 = distancebetweenTwoPoints((line[0][0],line[0][1]),(line[1][0],line[1][1]))\n",
    "\n",
    "    if int(length1) + int(length2)  == int(length3):\n",
    "        return True\n",
    "    else:\n",
    "        return False\n",
    "def intersectionOftwoLines(line_1,line_2):\n",
    "    '''\n",
    "    finds the intersection point between two lines\n",
    "    '''\n",
    "\n",
    "    xVal = (line_1[0][0] - line_1[1][0], line_2[0][0] - line_2[1][0])\n",
    "    yVal = (line_1[0][1] - line_1[1][1], line_2[0][1] - line_2[1][1])\n",
    "\n",
    "    intersect = determine(xVal, yVal)\n",
    "\n",
    "    if intersect == 0:\n",
    "        return 0,0\n",
    "\n",
    "    temp = (determine(*line_1), determine(*line_2))\n",
    "    x = determine(temp, xVal) / intersect\n",
    "    y = determine(temp, yVal) / intersect\n",
    "\n",
    "    return x, y\n",
    "\n",
    "# def intersectionofmultipleLines(lines):\n",
    "#     '''\n",
    "#     find all pairs of lines that intersect\n",
    "#     '''\n",
    "#     intersections = []\n",
    "#     for i in range(len(lines)):\n",
    "#         for j in range(i+1, len(lines)):\n",
    "#             # print(lines[i])\n",
    "#             # print(lines[j])\n",
    "#             intersection = intersectionOftwoLines(lines[i], lines[j])\n",
    "#             if intersection not in intersections:\n",
    "#                 intersections.append(intersection)\n",
    "#     return intersections"
   ],
   "outputs": [],
   "metadata": {}
  },
  {
   "cell_type": "code",
   "execution_count": 45,
   "source": [
    "def twoLineVP(img, houghLines):\n",
    "    '''\n",
    "    function to get the Vanishing point using two lines\n",
    "    '''\n",
    "    countInt = {}\n",
    "    \n",
    "    for line1 in houghLines:\n",
    "        for line2 in houghLines:\n",
    "            # if both the lines are same then don't process\n",
    "            if line1 == line2:\n",
    "                continue\n",
    "            \n",
    "            # check if point the lines are intersecting\n",
    "            # print(line1, line2)\n",
    "            # print(intersectionOftwoLines(line1, line2))\n",
    "            pointX, pointY = intersectionOftwoLines(line1, line2)\n",
    "            countInt[(pointX, pointY)] = 0\n",
    "\n",
    "            # now check for all other lines that intersect with this pair\n",
    "            for lines in houghLines:\n",
    "                # if lines are same then don't process\n",
    "                if lines == line1 or lines == line2:\n",
    "                    continue\n",
    "\n",
    "                # check if the line is passing through the pair of points\n",
    "                flag =  checklineIntersection(lines, pointX, pointY)\n",
    "                if flag:\n",
    "                    countInt[(pointX, pointY)] += 1\n",
    "\n",
    "    finalInt = max(countInt.items(), key=operator.itemgetter(1))[0]\n",
    "    print(\"Coordinates of VP : \")\n",
    "    print(finalInt)\n",
    "    cv2.circle(image, (int(finalInt[0]), int(finalInt[1])), 55, (0, 255, 0), 2)\n",
    "    cv2.imwrite(\"LinePairVP.jpg\", image)\n",
    "\n"
   ],
   "outputs": [],
   "metadata": {}
  },
  {
   "cell_type": "markdown",
   "source": [
    "## Driver Code of Rudimentary vanishing point detection with Hough Transformation\n",
    "* Obtain the HoughLines from the edges of the grayScale image\n",
    "* Calculate intersection point, iP = (iX, iY) of every pair of HoughLines\n",
    "* For each iP, find all the other lines that pass through that iP\n",
    "* Find the iP where the maximum numbers of line intersects"
   ],
   "metadata": {}
  },
  {
   "cell_type": "code",
   "execution_count": 46,
   "source": [
    "image = cv2.imread(\"Corridor.jpg\")\n",
    "houghLines = houghTransform(image)\n",
    "twoLineVP(image, houghLines)\n"
   ],
   "outputs": [
    {
     "output_type": "stream",
     "name": "stdout",
     "text": [
      "Found lines: 37\n",
      "Coordinates of VP : \n",
      "(556.3757716712147, 211.86193059308837)\n"
     ]
    }
   ],
   "metadata": {}
  }
 ],
 "metadata": {
  "orig_nbformat": 4,
  "language_info": {
   "name": "python"
  }
 },
 "nbformat": 4,
 "nbformat_minor": 2
}